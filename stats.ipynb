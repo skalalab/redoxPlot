{
 "cells": [
  {
   "cell_type": "code",
   "execution_count": 115,
   "id": "cec6af8d-16e2-4603-804d-f3fd0b4b13b0",
   "metadata": {
    "tags": []
   },
   "outputs": [],
   "source": [
    "# calculate the log2 fold change and p-value for each (cell line, treatment) pair\n",
    "import scipy.stats as stats\n",
    "import pandas as pd\n",
    "import numpy as np\n",
    "df = pd.read_csv(\"231214_cytoplasm_all.csv\")\n",
    "grouped_df = pd.read_csv(\"grouped_unnorm.csv\")\n"
   ]
  },
  {
   "cell_type": "code",
   "execution_count": 116,
   "id": "9d88413b-1e2e-42ce-a45f-eefdbc5c2c3e",
   "metadata": {
    "tags": []
   },
   "outputs": [],
   "source": [
    "# get column names for the new df\n",
    "measure_names = []\n",
    "for col in grouped_df.columns:\n",
    "    if '_mean' in col:\n",
    "        measure_name = col.split('_mean')[0]\n",
    "        measure_names.append(measure_name)\n",
    "columns = grouped_df.columns[1:4].tolist()\n",
    "columns += [m + \"_log2fc\" for m in measure_names]\n",
    "columns += [m + \"_pvalue\" for m in measure_names]\n",
    "columns += [m + \"_pvadj\" for m in measure_names]"
   ]
  },
  {
   "cell_type": "code",
   "execution_count": 117,
   "id": "5a0bcc5c-3f8c-4f55-b354-c4629991098a",
   "metadata": {
    "tags": []
   },
   "outputs": [],
   "source": [
    "# construct df for volcano plot\n",
    "# filter out control conditions\n",
    "filtered_df = grouped_df[~grouped_df['treatment'].str.contains(\"control|C-09\")]\n",
    "volcano_df = pd.DataFrame(columns=columns)\n",
    "for col in columns[:3]:\n",
    "    volcano_df[col] = filtered_df[col]\n",
    "for col in columns[3:]:\n",
    "    volcano_df[col] = np.nan"
   ]
  },
  {
   "cell_type": "code",
   "execution_count": 118,
   "id": "1ad7a369-17c6-4357-83ad-801e6cab4341",
   "metadata": {
    "tags": []
   },
   "outputs": [],
   "source": [
    "# calculate log2 fold change for every measure\n",
    "import math\n",
    "for i, row in volcano_df.iterrows():\n",
    "    treatment = row['treatment']\n",
    "    cell_line = row['cell_line']\n",
    "    experiment = row['experiment']\n",
    "    match = grouped_df[(grouped_df['treatment'] == treatment) & (grouped_df['cell_line'] == cell_line) & (grouped_df['experiment'] == experiment)]\n",
    "    # match the control row\n",
    "    if experiment == 'confluency':\n",
    "        control_match = grouped_df[(grouped_df['treatment'] == 'C-09') & (grouped_df['cell_line'] == cell_line) & (grouped_df['experiment'] == experiment)]\n",
    "    else:\n",
    "        control_match = grouped_df[(grouped_df['treatment'] == '0-control') & (grouped_df['cell_line'] == cell_line) & (grouped_df['experiment'] == experiment)]\n",
    "    \n",
    "    if len(control_match) != 1 or len(match) != 1:\n",
    "        print(f\"error at {i}\")\n",
    "    for measure in measure_names:\n",
    "        volcano_df.at[i, measure + \"_log2fc\"] = math.log2(match[measure + \"_mean\"].iloc[0] / control_match[measure + \"_mean\"].iloc[0])"
   ]
  },
  {
   "cell_type": "code",
   "execution_count": 119,
   "id": "b01f816b-37cf-4955-8c47-86f24a080e92",
   "metadata": {
    "tags": []
   },
   "outputs": [
    {
     "data": {
      "text/plain": [
       "{'TMRE': ['cccp', 'oligomycin'],\n",
       " 'confluency': ['C-04', 'C-05', 'C-06', 'C-07', 'C-08', 'C-10'],\n",
       " 'duroquinone': ['duroquinone',\n",
       "  'duroquinone_rotenone',\n",
       "  'ethanol',\n",
       "  'rotenone',\n",
       "  'ethanol_rotenone'],\n",
       " 'etc': ['Cyanide', 'Malonate', 'antimycin a', 'oligomycin', 'rotenone'],\n",
       " 'glucose': ['high glucose', 'low glucose', 'no glucose'],\n",
       " 'glytcafao': ['2DG',\n",
       "  'etomoxir',\n",
       "  'iodoacetic acid',\n",
       "  'sodium arsenite',\n",
       "  'sodium fluoroacetate'],\n",
       " 'pH': ['5.5', '6.5', '7.5', '8.5', '9.5', '6', '6.8', '7.6', '6.4', '9'],\n",
       " 'seahorse': ['fccp',\n",
       "  'oligomycin',\n",
       "  'rotenone_antimycina',\n",
       "  'fccpVec',\n",
       "  'fcppVec',\n",
       "  'oligomycin_vector',\n",
       "  'rotenone_antimycina_vector']}"
      ]
     },
     "execution_count": 119,
     "metadata": {},
     "output_type": "execute_result"
    }
   ],
   "source": [
    "experiments_treatment_dict = {name: group[\"treatment\"].unique().tolist() for name, group in filtered_df.groupby(\"experiment\")}\n",
    "experiments_treatment_dict"
   ]
  },
  {
   "cell_type": "code",
   "execution_count": 124,
   "id": "6c16c94a-78a7-4c87-b291-98ecbf54a2ae",
   "metadata": {
    "tags": []
   },
   "outputs": [],
   "source": [
    "# calculate p-value and adjusted p-value for each row \n",
    "import scipy.stats as stats\n",
    "for i, row in volcano_df.iterrows():\n",
    "    treatment = row['treatment']\n",
    "    cell_line = row['cell_line']\n",
    "    experiment = row['experiment']\n",
    "    match = df[(df['treatment'] == treatment) & (df['cell_line'] == cell_line) & (df['experiment'] == experiment)]\n",
    "    if experiment == 'confluency':\n",
    "        control_match = df[(df['treatment'] == 'C-09') & (df['cell_line'] == cell_line) & (df['experiment'] == experiment)]\n",
    "    else:\n",
    "        control_match = df[(df['treatment'] == '0-control') & (df['cell_line'] == cell_line) & (df['experiment'] == experiment)]\n",
    "    num_comparisons = len(experiments_treatment_dict[experiment])\n",
    "    for measure in measure_names:\n",
    "        if len(control_match) == len(match): \n",
    "            t_statistic, p_value = stats.ttest_ind(np.float64(match[measure]), np.float64(control_match[measure]), equal_var=True)\n",
    "        else: t_statistic, p_value = stats.ttest_ind(np.float64(match[measure]), np.float64(control_match[measure]), equal_var=False)\n",
    "        if p_value < 10**-10:\n",
    "            p_value = 10**-10\n",
    "        volcano_df.at[i, measure + \"_pvalue\"] = p_value\n",
    "        # perform Bonferroni Correction \n",
    "        volcano_df.at[i, measure + \"_pvadj\"] = p_value * num_comparisons\n",
    "        "
   ]
  },
  {
   "cell_type": "code",
   "execution_count": 125,
   "id": "d9904909-c210-48bb-a807-70941eed6f8f",
   "metadata": {
    "tags": []
   },
   "outputs": [],
   "source": [
    "volcano_df.to_csv(\"volcano.csv\", index=False)"
   ]
  },
  {
   "cell_type": "code",
   "execution_count": 110,
   "id": "5346ab8c-d9b0-4265-8b5e-b9a82af50926",
   "metadata": {
    "tags": []
   },
   "outputs": [
    {
     "name": "stdout",
     "output_type": "stream",
     "text": [
      "2.2250738585072014e-308\n"
     ]
    }
   ],
   "source": [
    "print(np.finfo(np.float64).tiny)"
   ]
  },
  {
   "cell_type": "code",
   "execution_count": null,
   "id": "bf9fe161-5c18-4329-a646-39f7d41e077d",
   "metadata": {},
   "outputs": [],
   "source": []
  }
 ],
 "metadata": {
  "kernelspec": {
   "display_name": "Python 3 (ipykernel)",
   "language": "python",
   "name": "python3"
  },
  "language_info": {
   "codemirror_mode": {
    "name": "ipython",
    "version": 3
   },
   "file_extension": ".py",
   "mimetype": "text/x-python",
   "name": "python",
   "nbconvert_exporter": "python",
   "pygments_lexer": "ipython3",
   "version": "3.11.6"
  }
 },
 "nbformat": 4,
 "nbformat_minor": 5
}
